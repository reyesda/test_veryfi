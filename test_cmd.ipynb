{
 "cells": [
  {
   "cell_type": "code",
   "execution_count": 9,
   "metadata": {},
   "outputs": [],
   "source": [
    "from process_receipt.receipt import Receipt\n",
    "\n",
    "from PIL import Image, ImageDraw, ImageFont\n"
   ]
  },
  {
   "cell_type": "code",
   "execution_count": 10,
   "metadata": {},
   "outputs": [
    {
     "data": {
      "text/plain": [
       "[[119, 47, 367, 47, 367, 80, 119, 80, 'TAN WOON YANN'],\n",
       " [93, 161, 352, 161, 352, 183, 93, 183, 'MR D.T.Y. (JOHOR) SDN BHD'],\n",
       " [137, 185, 320, 185, 320, 204, 137, 204, '(CO.REG : 933109-X)'],\n",
       " [49, 201, 391, 201, 391, 227, 49, 227, 'LOT 1851-A & 1851-B, JALAN KPB 6,'],\n",
       " [60, 228, 382, 228, 382, 246, 60, 246, 'KAWASAN PERINDUSTRIAN BALAKONG,'],\n",
       " [70, 249, 384, 249, 384, 267, 70, 267, '43300 SERI KEMBANGAN, SELANGOR'],\n",
       " [116, 268, 331, 268, 331, 289, 116, 289, '(MR DIY TESCO TERBAU)']]"
      ]
     },
     "execution_count": 10,
     "metadata": {},
     "output_type": "execute_result"
    }
   ],
   "source": [
    "file_path = './test_files/OCR1.txt'\n",
    "\n",
    "receipt = Receipt(file_path)"
   ]
  },
  {
   "cell_type": "code",
   "execution_count": 11,
   "metadata": {},
   "outputs": [],
   "source": [
    "max_min = receipt.get_min_max()\n",
    "width = max_min[0] + 5\n",
    "height = max_min[1] + 5\n",
    "white = (250, 250, 250)\n",
    "\n",
    "\n",
    "img  = Image.new( mode = \"RGB\", size = (width, height) , color= white)\n",
    "\n",
    "draw = ImageDraw.Draw(img)\n",
    "\n",
    "color=[(60, 60, 60), (0, 0, 0), (60, 60, 60)]\n",
    "size = 29\n",
    "for n in range(3):\n",
    "    for i in receipt.get_all_list_info_blocks()[n]:\n",
    "        # draw.rectangle((i[0], i[1], i[4], i[5]), outline=(0, 0, 0))\n",
    "        font = ImageFont.truetype(\"arial.ttf\", size)\n",
    "\n",
    "        draw.text((i[0], i[1]),i[-1],font=font, fill=color[n])\n",
    "\n",
    "        size = 17\n",
    "\n",
    "img.show()\n",
    "\n"
   ]
  }
 ],
 "metadata": {
  "kernelspec": {
   "display_name": "Python 3.8.6rc1 ('venv': venv)",
   "language": "python",
   "name": "python3"
  },
  "language_info": {
   "codemirror_mode": {
    "name": "ipython",
    "version": 3
   },
   "file_extension": ".py",
   "mimetype": "text/x-python",
   "name": "python",
   "nbconvert_exporter": "python",
   "pygments_lexer": "ipython3",
   "version": "3.8.6rc1"
  },
  "orig_nbformat": 4,
  "vscode": {
   "interpreter": {
    "hash": "eb4400cbe859b2ce1475a2662dfcc12dad432f45aa9fda320e847e59a453751b"
   }
  }
 },
 "nbformat": 4,
 "nbformat_minor": 2
}
