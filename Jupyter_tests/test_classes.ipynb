{
 "cells": [
  {
   "cell_type": "markdown",
   "metadata": {},
   "source": [
    "##### ==============================================\n",
    "##### Marcos Reyes\n",
    "##### Medellín-Colombia\n",
    "##### 23/08/2022\n",
    "##### =============================================="
   ]
  },
  {
   "cell_type": "code",
   "execution_count": 1,
   "metadata": {},
   "outputs": [],
   "source": [
    "import sys\n",
    "sys.path.append('..')\n",
    "\n",
    "from process_receipt.read_file import check_and_read\n",
    "from process_receipt.process import get_main_blocks, get_all_line_items, get_company_info, get_total, get_date"
   ]
  },
  {
   "cell_type": "code",
   "execution_count": 2,
   "metadata": {},
   "outputs": [],
   "source": [
    "file_path = '../test_files/OCR1.txt'\n",
    "list_all_data, list_only_text = check_and_read(file_path)"
   ]
  },
  {
   "cell_type": "code",
   "execution_count": 3,
   "metadata": {},
   "outputs": [],
   "source": [
    "blocks = get_main_blocks(list_only_text, list_only_text)"
   ]
  },
  {
   "cell_type": "code",
   "execution_count": 4,
   "metadata": {},
   "outputs": [
    {
     "data": {
      "text/plain": [
       "[['8970669', '1', '19.00', '19.00'],\n",
       " ['9066468', '1', '8.02', '8.02'],\n",
       " ['9557031100236', '1', '3.02', '3.02'],\n",
       " ['6935818350846', '1', '3.88', '3.88']]"
      ]
     },
     "execution_count": 4,
     "metadata": {},
     "output_type": "execute_result"
    }
   ],
   "source": [
    "get_all_line_items(blocks[1])"
   ]
  },
  {
   "cell_type": "code",
   "execution_count": 5,
   "metadata": {},
   "outputs": [
    {
     "data": {
      "text/plain": [
       "['MR D.T.Y. (JOHOR) SDN BHD',\n",
       " 'LOT 1851-A & 1851-B, JALAN KPB 6, KAWASAN PERINDUSTRIAN BALAKONG, 43300 SERI KEMBANGAN, SELANGOR (MR DIY TESCO TERBAU)']"
      ]
     },
     "execution_count": 5,
     "metadata": {},
     "output_type": "execute_result"
    }
   ],
   "source": [
    "name, address = get_company_info(blocks[0])\n",
    "[name, address]"
   ]
  },
  {
   "cell_type": "code",
   "execution_count": 6,
   "metadata": {},
   "outputs": [
    {
     "data": {
      "text/plain": [
       "'33.90'"
      ]
     },
     "execution_count": 6,
     "metadata": {},
     "output_type": "execute_result"
    }
   ],
   "source": [
    "get_total(blocks[2])"
   ]
  },
  {
   "cell_type": "code",
   "execution_count": 7,
   "metadata": {},
   "outputs": [
    {
     "data": {
      "text/plain": [
       "'12-01-19'"
      ]
     },
     "execution_count": 7,
     "metadata": {},
     "output_type": "execute_result"
    }
   ],
   "source": [
    "get_date(blocks[2])"
   ]
  },
  {
   "cell_type": "markdown",
   "metadata": {},
   "source": [
    "## Build Classes"
   ]
  },
  {
   "cell_type": "code",
   "execution_count": 8,
   "metadata": {},
   "outputs": [],
   "source": [
    "class Item:\n",
    "    def __init__(self, properties: list) -> None:\n",
    "        self.sku: str = properties[0]\n",
    "        self.quantity: str = properties[1]\n",
    "        self.price: str = properties[2]\n",
    "        self.total: str = properties[3]\n",
    "\n",
    "    def __repr__(self) -> str:\n",
    "        return str(vars(self))\n",
    "    \n",
    "    def result(self)-> dict:\n",
    "        return vars(self)\n"
   ]
  },
  {
   "cell_type": "code",
   "execution_count": 9,
   "metadata": {},
   "outputs": [],
   "source": [
    "class Receipt:\n",
    "    __list_only_text: list = []\n",
    "    __list_all_data: list = []\n",
    "    __main_blocks: list = []\n",
    "\n",
    "    company: str = ''\n",
    "    date: str = ''\n",
    "    address: str = ''\n",
    "    line_items: list = []\n",
    "    total: str = []\n",
    "\n",
    "    def __init__(self, file_path: str) -> None:\n",
    "        self.__list_all_data, self.__list_only_text = check_and_read(file_path)\n",
    "        self.__main_blocks = get_main_blocks(self.__list_only_text, self.__list_only_text)\n",
    "        self.company, self.address = get_company_info(self.__main_blocks[0])\n",
    "        self.total = get_total(self.__main_blocks[2])\n",
    "        self.date = get_date(self.__main_blocks[2])\n",
    "        self.line_items = self.__fill_out_line_items(get_all_line_items(self.__main_blocks[1]))\n",
    "\n",
    "    @staticmethod\n",
    "    def __fill_out_line_items(list_items: list)-> list:\n",
    "        items = []\n",
    "        for item in list_items:\n",
    "            items.append(Item(item))\n",
    "\n",
    "        return items\n",
    "\n",
    "    def __repr__(self) -> str:\n",
    "        final = {}\n",
    "        for key, value in vars(self).items():\n",
    "            if not '__' in key:\n",
    "                final[key] = value\n",
    "\n",
    "        return str(final)\n",
    "\n",
    "    def __getitem__(self, index)-> str:\n",
    "        return self.line_items[index]\n",
    "\n",
    "    def get_all_list_info_blocks(self)-> tuple:\n",
    "        return get_main_blocks(self.__list_only_text, self.__list_all_data)\n",
    "\n",
    "    def get_min_max(self)-> tuple:\n",
    "        max_pixel_y = 0\n",
    "        max_pixel_x = 0\n",
    "\n",
    "        min_pixel_x = 0\n",
    "        min_pixel_y = 0\n",
    "\n",
    "        for list_elements in self.__list_all_data:\n",
    "            max_pixel_x = max([list_elements[4], max_pixel_x])\n",
    "            max_pixel_y = max([list_elements[5], max_pixel_y])\n",
    "\n",
    "            min_pixel_x = min([list_elements[0], min_pixel_x])\n",
    "            min_pixel_y = min([list_elements[1], min_pixel_x])\n",
    "\n",
    "        return (max_pixel_x, max_pixel_y, min_pixel_x, min_pixel_y)\n",
    "\n",
    "\n"
   ]
  },
  {
   "cell_type": "code",
   "execution_count": 10,
   "metadata": {},
   "outputs": [
    {
     "data": {
      "text/plain": [
       "{'sku': '8970669', 'quantity': '1', 'price': '19.00', 'total': '19.00'}"
      ]
     },
     "execution_count": 10,
     "metadata": {},
     "output_type": "execute_result"
    }
   ],
   "source": [
    "item = Item(get_all_line_items(blocks[1])[0])\n",
    "item.result()"
   ]
  },
  {
   "cell_type": "code",
   "execution_count": 11,
   "metadata": {},
   "outputs": [
    {
     "data": {
      "text/plain": [
       "(436, 899, 0, 0)"
      ]
     },
     "execution_count": 11,
     "metadata": {},
     "output_type": "execute_result"
    }
   ],
   "source": [
    "Receipt(file_path).get_all_list_info_blocks()[0]\n",
    "Receipt(file_path).get_min_max()"
   ]
  }
 ],
 "metadata": {
  "kernelspec": {
   "display_name": "Python 3.8.6rc1 ('venv': venv)",
   "language": "python",
   "name": "python3"
  },
  "language_info": {
   "codemirror_mode": {
    "name": "ipython",
    "version": 3
   },
   "file_extension": ".py",
   "mimetype": "text/x-python",
   "name": "python",
   "nbconvert_exporter": "python",
   "pygments_lexer": "ipython3",
   "version": "3.8.6"
  },
  "orig_nbformat": 4,
  "vscode": {
   "interpreter": {
    "hash": "eb4400cbe859b2ce1475a2662dfcc12dad432f45aa9fda320e847e59a453751b"
   }
  }
 },
 "nbformat": 4,
 "nbformat_minor": 2
}
