{
 "cells": [
  {
   "cell_type": "code",
   "execution_count": 8,
   "metadata": {},
   "outputs": [],
   "source": [
    "from process_receipt.read_file import check_and_read\n",
    "from process_receipt.process import get_main_blocks, get_all_line_items, get_company_info, get_total, get_date"
   ]
  },
  {
   "cell_type": "code",
   "execution_count": 9,
   "metadata": {},
   "outputs": [],
   "source": [
    "file_path = './test_files/OCR1.txt'\n",
    "list_all_data, list_only_text = check_and_read(file_path)"
   ]
  },
  {
   "cell_type": "code",
   "execution_count": 10,
   "metadata": {},
   "outputs": [],
   "source": [
    "blocks = get_main_blocks(list_only_text, list_only_text)"
   ]
  },
  {
   "cell_type": "code",
   "execution_count": 11,
   "metadata": {},
   "outputs": [
    {
     "data": {
      "text/plain": [
       "[['8970669', '1', '19.00', '19.00'],\n",
       " ['9066468', '1', '8.02', '8.02'],\n",
       " ['9557031100236', '1', '3.02', '3.02'],\n",
       " ['6935818350846', '1', '3.88', '3.88']]"
      ]
     },
     "execution_count": 11,
     "metadata": {},
     "output_type": "execute_result"
    }
   ],
   "source": [
    "get_all_line_items(blocks[1])"
   ]
  },
  {
   "cell_type": "code",
   "execution_count": 12,
   "metadata": {},
   "outputs": [
    {
     "data": {
      "text/plain": [
       "['MR D.T.Y. (JOHOR) SDN BHD',\n",
       " 'LOT 1851-A & 1851-B, JALAN KPB 6, KAWASAN PERINDUSTRIAN BALAKONG, 43300 SERI KEMBANGAN, SELANGOR (MR DIY TESCO TERBAU)']"
      ]
     },
     "execution_count": 12,
     "metadata": {},
     "output_type": "execute_result"
    }
   ],
   "source": [
    "name, address = get_company_info(blocks[0])\n",
    "[name, address]"
   ]
  },
  {
   "cell_type": "code",
   "execution_count": 13,
   "metadata": {},
   "outputs": [
    {
     "data": {
      "text/plain": [
       "'33.90'"
      ]
     },
     "execution_count": 13,
     "metadata": {},
     "output_type": "execute_result"
    }
   ],
   "source": [
    "get_total(blocks[2])"
   ]
  },
  {
   "cell_type": "code",
   "execution_count": 14,
   "metadata": {},
   "outputs": [
    {
     "data": {
      "text/plain": [
       "'12-01-19'"
      ]
     },
     "execution_count": 14,
     "metadata": {},
     "output_type": "execute_result"
    }
   ],
   "source": [
    "get_date(blocks[2])"
   ]
  },
  {
   "cell_type": "markdown",
   "metadata": {},
   "source": [
    "## Build Classes"
   ]
  },
  {
   "cell_type": "code",
   "execution_count": 41,
   "metadata": {},
   "outputs": [],
   "source": [
    "class Item:\n",
    "    def __init__(self, properties: list) -> None:\n",
    "        self.sku: str = properties[0]\n",
    "        self.quantity: str = properties[1]\n",
    "        self.price: str = properties[2]\n",
    "        self.total: str = properties[3]\n",
    "\n",
    "    def __repr__(self) -> str:\n",
    "        return str(vars(self))\n",
    "    \n",
    "    def result(self)-> dict:\n",
    "        return vars(self)\n"
   ]
  },
  {
   "cell_type": "code",
   "execution_count": 57,
   "metadata": {},
   "outputs": [],
   "source": [
    "class Receipt:\n",
    "    __list_only_text: list = []\n",
    "    __list_all_data: list = []\n",
    "    __main_blocks: list = []\n",
    "\n",
    "    company: str = ''\n",
    "    date: str = ''\n",
    "    address: str = ''\n",
    "    line_items: list = []\n",
    "    total: str = []\n",
    "\n",
    "    def __init__(self, file_path: str) -> None:\n",
    "        self.__list_all_data, self.__list_only_text = check_and_read(file_path)\n",
    "        self.__main_blocks = get_main_blocks(self.__list_only_text, self.__list_only_text)\n",
    "        self.company, self.address = get_company_info(self.__main_blocks[0])\n",
    "        self.total = get_total(self.__main_blocks[2])\n",
    "        self.date = get_date(self.__main_blocks[2])\n",
    "        self.line_items = self.__fill_out_line_items(get_all_line_items(self.__main_blocks[1]))\n",
    "\n",
    "    @staticmethod\n",
    "    def __fill_out_line_items(list_items: list)-> list:\n",
    "        items = []\n",
    "        for item in list_items:\n",
    "            items.append(Item(item))\n",
    "\n",
    "        return items\n",
    "\n",
    "    def __repr__(self) -> str:\n",
    "        final = {}\n",
    "        for key, value in vars(self).items():\n",
    "            if not '__' in key:\n",
    "                final[key] = value\n",
    "\n",
    "        return str(final)\n",
    "    "
   ]
  },
  {
   "cell_type": "code",
   "execution_count": 43,
   "metadata": {},
   "outputs": [
    {
     "data": {
      "text/plain": [
       "{'sku': '8970669', 'quantity': '1', 'price': '19.00', 'total': '19.00'}"
      ]
     },
     "execution_count": 43,
     "metadata": {},
     "output_type": "execute_result"
    }
   ],
   "source": [
    "item = Item(get_all_line_items(blocks[1])[0])\n",
    "item.result()"
   ]
  },
  {
   "cell_type": "code",
   "execution_count": 58,
   "metadata": {},
   "outputs": [
    {
     "data": {
      "text/plain": [
       "{'company': 'MR D.T.Y. (JOHOR) SDN BHD', 'address': 'LOT 1851-A & 1851-B, JALAN KPB 6, KAWASAN PERINDUSTRIAN BALAKONG, 43300 SERI KEMBANGAN, SELANGOR (MR DIY TESCO TERBAU)', 'total': '33.90', 'date': '12-01-19', 'line_items': [{'sku': '8970669', 'quantity': '1', 'price': '19.00', 'total': '19.00'}, {'sku': '9066468', 'quantity': '1', 'price': '8.02', 'total': '8.02'}, {'sku': '9557031100236', 'quantity': '1', 'price': '3.02', 'total': '3.02'}, {'sku': '6935818350846', 'quantity': '1', 'price': '3.88', 'total': '3.88'}]}"
      ]
     },
     "execution_count": 58,
     "metadata": {},
     "output_type": "execute_result"
    }
   ],
   "source": [
    "Receipt(file_path)"
   ]
  }
 ],
 "metadata": {
  "kernelspec": {
   "display_name": "Python 3.8.6rc1 ('venv': venv)",
   "language": "python",
   "name": "python3"
  },
  "language_info": {
   "codemirror_mode": {
    "name": "ipython",
    "version": 3
   },
   "file_extension": ".py",
   "mimetype": "text/x-python",
   "name": "python",
   "nbconvert_exporter": "python",
   "pygments_lexer": "ipython3",
   "version": "3.8.6rc1"
  },
  "orig_nbformat": 4,
  "vscode": {
   "interpreter": {
    "hash": "eb4400cbe859b2ce1475a2662dfcc12dad432f45aa9fda320e847e59a453751b"
   }
  }
 },
 "nbformat": 4,
 "nbformat_minor": 2
}
