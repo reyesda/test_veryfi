{
 "cells": [
  {
   "cell_type": "code",
   "execution_count": 1,
   "metadata": {},
   "outputs": [],
   "source": [
    "import os\n",
    "import re"
   ]
  },
  {
   "cell_type": "markdown",
   "metadata": {},
   "source": [
    "## Read file fuctions"
   ]
  },
  {
   "cell_type": "code",
   "execution_count": 2,
   "metadata": {},
   "outputs": [],
   "source": [
    "def is_there_a_file(path: str) -> bool:\n",
    "    return os.path.exists(path)\n",
    "\n",
    "def check_file_extension(path: str, extension: str) -> bool:\n",
    "    return os.path.splitext(path)[1] == extension\n",
    "\n",
    "def valid_path_file(path: str)-> bool:\n",
    "    return is_there_a_file(path) and check_file_extension(path, '.txt')\n",
    "\n",
    "def get_all_files_by_extension(path: str, extension: str)-> list:\n",
    "    return [file_name for file_name in os.listdir(path) if extension in file_name]\n",
    "\n",
    "def read_file(path: str):\n",
    "    all_data = []\n",
    "    text = []\n",
    "    with open(path, 'r') as file:\n",
    "        for line in file:\n",
    "            line = line.rstrip('\\n').split(',')\n",
    "\n",
    "            xn_and_yn = turn_all_elements_into_int(line[:8].copy())\n",
    "            text_data = process_text_data(line[8:].copy(), ',')\n",
    "\n",
    "            \n",
    "            xn_and_yn.append(text_data)\n",
    "            \n",
    "            text.append(text_data)\n",
    "            all_data.append(xn_and_yn)\n",
    "        \n",
    "        return all_data, text\n",
    "\n",
    "def turn_all_elements_into_int(list_str: list)-> list:\n",
    "    return list(map(lambda number: int(number), list_str))\n",
    "\n",
    "def process_text_data(list_text: list, join_string: str)-> str:\n",
    "    if len(list_text) > 1:\n",
    "        list_text = join_string.join(list_text)\n",
    "    else:\n",
    "        list_text = list_text[0]\n",
    "        \n",
    "    return list_text\n"
   ]
  },
  {
   "cell_type": "code",
   "execution_count": 14,
   "metadata": {},
   "outputs": [],
   "source": [
    "file_path = './test_files/OCR2.txt'\n",
    "directory_path = './test_files'\n",
    "\n",
    "valid_path_file(file_path)\n",
    "get_all_files_by_extension(directory_path,'.txt')\n",
    "all, text = read_file(file_path)"
   ]
  },
  {
   "cell_type": "markdown",
   "metadata": {},
   "source": [
    "# Process fuctions"
   ]
  },
  {
   "cell_type": "code",
   "execution_count": 4,
   "metadata": {},
   "outputs": [],
   "source": [
    "def find_indexes_equal_character(block: list, element: str)-> list:\n",
    "    return [index for index, text_element in enumerate(block) if  element == text_element]\n",
    "\n",
    "def find_indexes_that_contain_character(block: list, element: str)-> list:\n",
    "    return [index for index, text_element in enumerate(block) if  element in text_element]\n",
    "\n",
    "def index_before_2_and_after_2(index:int)->list:\n",
    "    return [index - 2, index - 1, index + 1, index + 2]\n",
    "\n",
    "def get_line_item(text: list, index_x: int)-> list:\n",
    "    return [text[index] for index in index_before_2_and_after_2(index_x)]\n",
    "\n",
    "def split_block_by_index(block: list, start: int = None, end: int = None)-> list:\n",
    "    return block[start:end]\n",
    "\n",
    "def get_indexes_to_break_down_block(block: list)-> tuple:\n",
    "    index_invoice = find_indexes_that_contain_character(text,'-INVOICE-')[0]\n",
    "    index_item = find_indexes_that_contain_character(text, 'ITEM')[0]\n",
    "\n",
    "    return index_invoice, index_item\n",
    "\n",
    "def get_main_blocks(reference_block: list, target_block: list )-> list:\n",
    "    index_invoice, index_item = get_indexes_to_break_down_block(reference_block)\n",
    "\n",
    "    indexes = [None, index_invoice, index_item, None]\n",
    "    blocks = []\n",
    "\n",
    "    for index in range(len(indexes) - 1):\n",
    "        blocks.append(split_block_by_index(target_block,start=indexes[index], end=indexes[index + 1]))\n",
    "\n",
    "    return blocks\n",
    "\n",
    "def get_all_line_items(line_items_block: list)-> list:\n",
    "    indexes_x = find_indexes_equal_character(line_items_block, 'X')\n",
    "    result = []\n",
    "\n",
    "    for index in indexes_x:\n",
    "        result.append(get_line_item(line_items_block, index))\n",
    "\n",
    "    return result\n"
   ]
  },
  {
   "cell_type": "code",
   "execution_count": 5,
   "metadata": {},
   "outputs": [],
   "source": [
    "def get_company_info(company_info_block: list)-> tuple:\n",
    "    index_company_registration = find_indexes_that_contain_character(block=company_info_block, element=\"CO.\")[0]\n",
    "\n",
    "    company_name = split_block_by_index(company_info_block, 1, index_company_registration)\n",
    "    company_name = process_text_data(company_name, ' ')\n",
    "\n",
    "    address_lines = split_block_by_index(company_info_block, index_company_registration + 1)\n",
    "    address_lines = process_text_data(address_lines, ' ')\n",
    "\n",
    "    return company_name, address_lines"
   ]
  },
  {
   "cell_type": "code",
   "execution_count": 6,
   "metadata": {},
   "outputs": [],
   "source": [
    "def get_total(totals_block: list)-> str:\n",
    "    total_rounded_index = find_indexes_that_contain_character(totals_block, 'ROUNDED')[0]\n",
    "    total = totals_block[total_rounded_index + 1]\n",
    "    return total.split(' ')[1]"
   ]
  },
  {
   "cell_type": "code",
   "execution_count": 7,
   "metadata": {},
   "outputs": [],
   "source": [
    "def get_date(date_block: list)-> str:\n",
    "    pattern = re.compile(\"[0-9][0-9]-[0-9][0-9]-[0-9][0-9]\")\n",
    "\n",
    "    for i in date_block:\n",
    "        find = re.search(pattern, i)\n",
    "        if find:\n",
    "            return find.group()\n",
    "            "
   ]
  },
  {
   "cell_type": "code",
   "execution_count": 32,
   "metadata": {},
   "outputs": [],
   "source": [
    "blocks = get_main_blocks(text, text)"
   ]
  },
  {
   "cell_type": "code",
   "execution_count": 9,
   "metadata": {},
   "outputs": [
    {
     "data": {
      "text/plain": [
       "[['9555916500133', '1', '3.11', '3.11'],\n",
       " ['9555916500126', '1', '4.62', '4.62'],\n",
       " ['079567600084', '1', '11.23', '11.23'],\n",
       " ['9555651400385', '1', '7.45', '7.45'],\n",
       " ['9090822', '1', '4.50', '4.50']]"
      ]
     },
     "execution_count": 9,
     "metadata": {},
     "output_type": "execute_result"
    }
   ],
   "source": [
    "get_all_line_items(blocks[1])\n"
   ]
  },
  {
   "cell_type": "code",
   "execution_count": 10,
   "metadata": {},
   "outputs": [
    {
     "data": {
      "text/plain": [
       "['MR D.I.Y. (M) SDN BHD',\n",
       " 'LOT 1851-A & 1851-B, JALAN KPB 6, KAWASAN PERINDUSTRIAN BALAKONG, 43300 SERI KEMBANGAN, SELANGOR (TESCO PUTRA NILAI)']"
      ]
     },
     "execution_count": 10,
     "metadata": {},
     "output_type": "execute_result"
    }
   ],
   "source": [
    "name, address = get_company_info(blocks[0])\n",
    "[name, address]"
   ]
  },
  {
   "cell_type": "code",
   "execution_count": 11,
   "metadata": {},
   "outputs": [
    {
     "data": {
      "text/plain": [
       "'30.90'"
      ]
     },
     "execution_count": 11,
     "metadata": {},
     "output_type": "execute_result"
    }
   ],
   "source": [
    "get_total(blocks[2])"
   ]
  },
  {
   "cell_type": "code",
   "execution_count": 12,
   "metadata": {},
   "outputs": [
    {
     "data": {
      "text/plain": [
       "'18-11-18'"
      ]
     },
     "execution_count": 12,
     "metadata": {},
     "output_type": "execute_result"
    }
   ],
   "source": [
    "get_date(blocks[2])"
   ]
  }
 ],
 "metadata": {
  "kernelspec": {
   "display_name": "Python 3.8.6rc1 ('venv': venv)",
   "language": "python",
   "name": "python3"
  },
  "language_info": {
   "codemirror_mode": {
    "name": "ipython",
    "version": 3
   },
   "file_extension": ".py",
   "mimetype": "text/x-python",
   "name": "python",
   "nbconvert_exporter": "python",
   "pygments_lexer": "ipython3",
   "version": "3.8.6rc1"
  },
  "orig_nbformat": 4,
  "vscode": {
   "interpreter": {
    "hash": "eb4400cbe859b2ce1475a2662dfcc12dad432f45aa9fda320e847e59a453751b"
   }
  }
 },
 "nbformat": 4,
 "nbformat_minor": 2
}
