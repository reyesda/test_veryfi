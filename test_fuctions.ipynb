{
 "cells": [
  {
   "cell_type": "code",
   "execution_count": 2,
   "metadata": {},
   "outputs": [],
   "source": [
    "import os"
   ]
  },
  {
   "cell_type": "markdown",
   "metadata": {},
   "source": [
    "## Read file fuctions"
   ]
  },
  {
   "cell_type": "code",
   "execution_count": 213,
   "metadata": {},
   "outputs": [],
   "source": [
    "def is_there_a_file(path: str) -> bool:\n",
    "    return os.path.exists(path)\n",
    "\n",
    "def check_file_extension(path: str, extension: str) -> bool:\n",
    "    return os.path.splitext(path)[1] == extension\n",
    "\n",
    "def valid_path_file(path: str)-> bool:\n",
    "    return is_there_a_file(path) and check_file_extension(path, '.txt')\n",
    "\n",
    "def get_all_files_by_extension(path: str, extension: str)-> list:\n",
    "    return [file_name for file_name in os.listdir(path) if extension in file_name]\n",
    "\n",
    "def read_file(path: str):\n",
    "    all_data = []\n",
    "    text = []\n",
    "    with open(path, 'r') as file:\n",
    "        for line in file:\n",
    "            line = line.rstrip('\\n').split(',')\n",
    "\n",
    "            xn_and_yn = turn_all_elements_into_int(line[:8].copy())\n",
    "            text_data = process_text_data(line[8:].copy(), ',')\n",
    "\n",
    "            \n",
    "            xn_and_yn.append(text_data)\n",
    "            \n",
    "            text.append(text_data)\n",
    "            all_data.append(xn_and_yn)\n",
    "        \n",
    "        return all_data, text\n",
    "\n",
    "def turn_all_elements_into_int(list_str: list)-> list:\n",
    "    return list(map(lambda number: int(number), list_str))\n",
    "\n",
    "def process_text_data(list_text: list, join_string: str)-> str:\n",
    "    if len(list_text) > 1:\n",
    "        list_text = join_string.join(list_text)\n",
    "    else:\n",
    "        list_text = list_text[0]\n",
    "        \n",
    "    return list_text\n"
   ]
  },
  {
   "cell_type": "code",
   "execution_count": 214,
   "metadata": {},
   "outputs": [
    {
     "data": {
      "text/plain": [
       "['TAN WOON YANN',\n",
       " 'MR D.T.Y. (JOHOR) SDN BHD',\n",
       " '(CO.REG : 933109-X)',\n",
       " 'LOT 1851-A & 1851-B, JALAN KPB 6,',\n",
       " 'KAWASAN PERINDUSTRIAN BALAKONG,',\n",
       " '43300 SERI KEMBANGAN, SELANGOR',\n",
       " '(MR DIY TESCO TERBAU)',\n",
       " '-INVOICE-',\n",
       " 'CHOPPING BOARD 35.5X25.5CM 803M#',\n",
       " 'EZ10HD05 - 24',\n",
       " '8970669',\n",
       " '1',\n",
       " 'X',\n",
       " '19.00',\n",
       " '19.00',\n",
       " 'AIR PRESSURE SPRAYER SX-575-1 1.5L',\n",
       " 'HC03-7 - 15',\n",
       " '9066468',\n",
       " '1',\n",
       " 'X',\n",
       " '8.02',\n",
       " '8.02',\n",
       " 'WAXCO WINDSHILED CLEANER 120ML',\n",
       " 'WA14-3A - 48',\n",
       " '9557031100236',\n",
       " '1',\n",
       " 'X',\n",
       " '3.02',\n",
       " '3.02',\n",
       " 'BOPP TAPE 48MM*100M CLEAR',\n",
       " 'FZ-04 - 36',\n",
       " '6935818350846',\n",
       " '1',\n",
       " 'X',\n",
       " '3.88',\n",
       " '3.88',\n",
       " 'ITEM(S) : 4',\n",
       " 'QTY(S) : 4',\n",
       " 'TOTAL',\n",
       " 'RM 33.92',\n",
       " 'ROUNDING ADJUSTMENT',\n",
       " '-RM 0.02',\n",
       " 'TOTAL ROUNDED',\n",
       " 'RM 33.90',\n",
       " 'CASH',\n",
       " 'RM 50.00',\n",
       " 'CHANGE',\n",
       " 'RM 16.10',\n",
       " '12-01-19 21:13 SH01 ZK09',\n",
       " 'T4 R000027830',\n",
       " 'OPERATOR TRAINEE CASHIER',\n",
       " 'EXCHANGE ARE ALLOWED WITHIN',\n",
       " '7 DAYS WITH RECEIPT.',\n",
       " 'STRICTLY NO CASH REFUND.']"
      ]
     },
     "execution_count": 214,
     "metadata": {},
     "output_type": "execute_result"
    }
   ],
   "source": [
    "file_path = './test_files/OCR1.txt'\n",
    "directory_path = './test_files'\n",
    "\n",
    "valid_path_file(file_path)\n",
    "get_all_files_by_extension(directory_path,'.txt')\n",
    "all, text = read_file(file_path)\n",
    "text"
   ]
  },
  {
   "cell_type": "markdown",
   "metadata": {},
   "source": [
    "# Process fuctions"
   ]
  },
  {
   "cell_type": "code",
   "execution_count": 191,
   "metadata": {},
   "outputs": [],
   "source": [
    "def find_indexes_equal_character(block: list, element: str)-> list:\n",
    "    return [index for index, text_element in enumerate(block) if  element == text_element]\n",
    "\n",
    "def find_indexes_that_contain_character(block: list, element: str)-> list:\n",
    "    return [index for index, text_element in enumerate(block) if  element in text_element]\n",
    "\n",
    "def index_before_2_and_after_2(index:int)->list:\n",
    "    return [index - 2, index - 1, index + 1, index + 2]\n",
    "\n",
    "def get_line_item(text: list, index_x: int)-> list:\n",
    "    return [text[index] for index in index_before_2_and_after_2(index_x)]\n",
    "\n",
    "def split_block_by_index(block: list, start: int = None, end: int = None)-> list:\n",
    "    return block[start:end]\n",
    "\n",
    "def get_main_blocks(text: list)-> list:\n",
    "    index_invoice = find_indexes_equal_character(text,'-INVOICE-')[0]\n",
    "    index_item = find_indexes_that_contain_character(text, 'ITEM')[0]\n",
    "\n",
    "    indexes = [None, index_invoice, index_item, None]\n",
    "    blocks = []\n",
    "\n",
    "    for index in range(len(indexes) - 1):\n",
    "        blocks.append(split_block_by_index(text,start=indexes[index], end=indexes[index + 1]))\n",
    "\n",
    "    return blocks\n",
    "\n",
    "def get_all_line_items(line_items_block: list)-> list:\n",
    "    indexes_x = find_indexes_equal_character(line_items_block, 'X')\n",
    "    result = []\n",
    "\n",
    "    for index in indexes_x:\n",
    "        result.append(get_line_item(line_items_block, index))\n",
    "\n",
    "    return result\n"
   ]
  },
  {
   "cell_type": "code",
   "execution_count": 215,
   "metadata": {},
   "outputs": [],
   "source": [
    "def get_company_info(company_info_block: list)-> tuple:\n",
    "    index_company_registration = find_indexes_that_contain_character(block=company_info_block, element=\"CO.REG\")[0]\n",
    "\n",
    "    company_name = split_block_by_index(company_info_block, 1, index_company_registration)\n",
    "    company_name = process_text_data(company_name, ' ')\n",
    "\n",
    "    address_lines = split_block_by_index(company_info_block, index_company_registration + 1)\n",
    "    address_lines = process_text_data(address_lines, ' ')\n",
    "\n",
    "    return company_name, address_lines"
   ]
  },
  {
   "cell_type": "code",
   "execution_count": 184,
   "metadata": {},
   "outputs": [],
   "source": [
    "index_invoice = find_indexes_equal_character(text,'-INVOICE-')[0]\n",
    "index_item = find_indexes_that_contain_character(text, 'ITEM')[0]\n",
    "\n",
    "blocks = get_main_blocks(text, index_invoice, index_item)"
   ]
  },
  {
   "cell_type": "code",
   "execution_count": 219,
   "metadata": {},
   "outputs": [
    {
     "data": {
      "text/plain": [
       "[['8970669', '1', '19.00', '19.00'],\n",
       " ['9066468', '1', '8.02', '8.02'],\n",
       " ['9557031100236', '1', '3.02', '3.02'],\n",
       " ['6935818350846', '1', '3.88', '3.88']]"
      ]
     },
     "execution_count": 219,
     "metadata": {},
     "output_type": "execute_result"
    }
   ],
   "source": [
    "get_all_line_items(blocks[1])\n"
   ]
  },
  {
   "cell_type": "code",
   "execution_count": 220,
   "metadata": {},
   "outputs": [
    {
     "data": {
      "text/plain": [
       "['MR D.T.Y. (JOHOR) SDN BHD',\n",
       " 'LOT 1851-A & 1851-B, JALAN KPB 6, KAWASAN PERINDUSTRIAN BALAKONG, 43300 SERI KEMBANGAN, SELANGOR (MR DIY TESCO TERBAU)']"
      ]
     },
     "execution_count": 220,
     "metadata": {},
     "output_type": "execute_result"
    }
   ],
   "source": [
    "name, address = get_company_info(blocks[0])\n",
    "[name, address]"
   ]
  }
 ],
 "metadata": {
  "kernelspec": {
   "display_name": "Python 3.8.6rc1 ('venv': venv)",
   "language": "python",
   "name": "python3"
  },
  "language_info": {
   "codemirror_mode": {
    "name": "ipython",
    "version": 3
   },
   "file_extension": ".py",
   "mimetype": "text/x-python",
   "name": "python",
   "nbconvert_exporter": "python",
   "pygments_lexer": "ipython3",
   "version": "3.8.6rc1"
  },
  "orig_nbformat": 4,
  "vscode": {
   "interpreter": {
    "hash": "eb4400cbe859b2ce1475a2662dfcc12dad432f45aa9fda320e847e59a453751b"
   }
  }
 },
 "nbformat": 4,
 "nbformat_minor": 2
}
