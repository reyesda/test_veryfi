{
 "cells": [
  {
   "cell_type": "code",
   "execution_count": 2,
   "metadata": {},
   "outputs": [],
   "source": [
    "import os"
   ]
  },
  {
   "cell_type": "code",
   "execution_count": 121,
   "metadata": {},
   "outputs": [],
   "source": [
    "def is_there_a_file(path: str) -> bool:\n",
    "    return os.path.exists(path)\n",
    "\n",
    "def check_file_extension(path: str, extension: str) -> bool:\n",
    "    return os.path.splitext(path)[1] == extension\n",
    "\n",
    "def valid_path_file(path: str)-> bool:\n",
    "    return is_there_a_file(path) and check_file_extension(path, '.txt')\n",
    "\n",
    "def get_all_files_by_extension(path: str, extension: str)-> list:\n",
    "    return [file_name for file_name in os.listdir(path) if extension in file_name]\n",
    "\n",
    "def read_file(path: str):\n",
    "    all_data = []\n",
    "    text = []\n",
    "    with open(path, 'r') as file:\n",
    "        for line in file:\n",
    "            line = line.rstrip('\\n').split(',')\n",
    "\n",
    "            xn_and_yn = turn_all_elements_into_int(line[:8].copy())\n",
    "            text_data = process_text_data(line[8:].copy())\n",
    "\n",
    "            \n",
    "            xn_and_yn.append(text_data)\n",
    "            \n",
    "            text.append(text_data)\n",
    "            all_data.append(xn_and_yn)\n",
    "        \n",
    "        return all_data, text\n",
    "\n",
    "def turn_all_elements_into_int(list_str: list)-> list:\n",
    "    return list(map(lambda number: int(number), list_str))\n",
    "\n",
    "def process_text_data(list_text: list)-> str:\n",
    "    if len(list_text) > 1:\n",
    "        list_text = ','.join(list_text)\n",
    "    else:\n",
    "        list_text = list_text[0]\n",
    "        \n",
    "    return list_text\n"
   ]
  },
  {
   "cell_type": "code",
   "execution_count": 122,
   "metadata": {},
   "outputs": [
    {
     "data": {
      "text/plain": [
       "[[119, 47, 367, 47, 367, 80, 119, 80, 'TAN WOON YANN'],\n",
       " [93, 161, 352, 161, 352, 183, 93, 183, 'MR D.T.Y. (JOHOR) SDN BHD'],\n",
       " [137, 185, 320, 185, 320, 204, 137, 204, '(CO.REG : 933109-X)'],\n",
       " [49, 201, 391, 201, 391, 227, 49, 227, 'LOT 1851-A & 1851-B, JALAN KPB 6,'],\n",
       " [60, 228, 382, 228, 382, 246, 60, 246, 'KAWASAN PERINDUSTRIAN BALAKONG,'],\n",
       " [70, 249, 384, 249, 384, 267, 70, 267, '43300 SERI KEMBANGAN, SELANGOR'],\n",
       " [116, 268, 331, 268, 331, 289, 116, 289, '(MR DIY TESCO TERBAU)'],\n",
       " [176, 290, 268, 290, 268, 308, 176, 308, '-INVOICE-'],\n",
       " [14, 328, 358, 328, 358, 351, 14, 351, 'CHOPPING BOARD 35.5X25.5CM 803M#'],\n",
       " [16, 349, 158, 349, 158, 372, 16, 372, 'EZ10HD05 - 24'],\n",
       " [20, 371, 95, 371, 95, 393, 20, 393, '8970669'],\n",
       " [249, 373, 259, 373, 259, 393, 249, 393, '1'],\n",
       " [266, 376, 282, 376, 282, 393, 266, 393, 'X'],\n",
       " [290, 374, 343, 374, 343, 395, 290, 395, '19.00'],\n",
       " [358, 375, 412, 375, 412, 396, 358, 396, '19.00'],\n",
       " [15, 394, 371, 394, 371, 417, 15, 417, 'AIR PRESSURE SPRAYER SX-575-1 1.5L'],\n",
       " [17, 413, 136, 413, 136, 436, 17, 436, 'HC03-7 - 15'],\n",
       " [14, 436, 93, 436, 93, 456, 14, 456, '9066468'],\n",
       " [245, 438, 258, 438, 258, 458, 245, 458, '1'],\n",
       " [265, 437, 282, 437, 282, 460, 265, 460, 'X'],\n",
       " [296, 439, 343, 439, 343, 459, 296, 459, '8.02'],\n",
       " [364, 436, 413, 436, 413, 460, 364, 460, '8.02'],\n",
       " [17, 457, 332, 457, 332, 479, 17, 479, 'WAXCO WINDSHILED CLEANER 120ML'],\n",
       " [15, 477, 146, 477, 146, 497, 15, 497, 'WA14-3A - 48'],\n",
       " [18, 501, 159, 501, 159, 521, 18, 521, '9557031100236'],\n",
       " [245, 498, 259, 498, 259, 522, 245, 522, '1'],\n",
       " [267, 502, 283, 502, 283, 518, 267, 518, 'X'],\n",
       " [294, 502, 344, 502, 344, 523, 294, 523, '3.02'],\n",
       " [368, 502, 412, 502, 412, 523, 368, 523, '3.02'],\n",
       " [16, 521, 278, 521, 278, 539, 16, 539, 'BOPP TAPE 48MM*100M CLEAR'],\n",
       " [21, 542, 124, 542, 124, 559, 21, 559, 'FZ-04 - 36'],\n",
       " [19, 563, 155, 563, 155, 583, 19, 583, '6935818350846'],\n",
       " [245, 561, 256, 561, 256, 583, 245, 583, '1'],\n",
       " [265, 562, 282, 562, 282, 586, 265, 586, 'X'],\n",
       " [296, 561, 340, 561, 340, 589, 296, 589, '3.88'],\n",
       " [367, 563, 424, 563, 424, 586, 367, 586, '3.88'],\n",
       " [21, 604, 132, 604, 132, 624, 21, 624, 'ITEM(S) : 4'],\n",
       " [329, 607, 431, 607, 431, 628, 329, 628, 'QTY(S) : 4'],\n",
       " [17, 643, 79, 643, 79, 665, 17, 665, 'TOTAL'],\n",
       " [347, 650, 432, 650, 432, 668, 347, 668, 'RM 33.92'],\n",
       " [16, 667, 216, 667, 216, 688, 16, 688, 'ROUNDING ADJUSTMENT'],\n",
       " [345, 667, 436, 667, 436, 689, 345, 689, '-RM 0.02'],\n",
       " [16, 688, 155, 688, 155, 711, 16, 711, 'TOTAL ROUNDED'],\n",
       " [347, 688, 431, 688, 431, 712, 347, 712, 'RM 33.90'],\n",
       " [16, 710, 62, 710, 62, 728, 16, 728, 'CASH'],\n",
       " [343, 711, 435, 711, 435, 729, 343, 729, 'RM 50.00'],\n",
       " [15, 730, 85, 730, 85, 754, 15, 754, 'CHANGE'],\n",
       " [349, 733, 432, 733, 432, 753, 349, 753, 'RM 16.10'],\n",
       " [22, 773, 269, 773, 269, 791, 22, 791, '12-01-19 21:13 SH01 ZK09'],\n",
       " [297, 772, 431, 772, 431, 794, 297, 794, 'T4 R000027830'],\n",
       " [18, 794, 269, 794, 269, 812, 18, 812, 'OPERATOR TRAINEE CASHIER'],\n",
       " [82, 835, 361, 835, 361, 855, 82, 855, 'EXCHANGE ARE ALLOWED WITHIN'],\n",
       " [122, 858, 325, 858, 325, 876, 122, 876, '7 DAYS WITH RECEIPT.'],\n",
       " [101, 877, 347, 877, 347, 899, 101, 899, 'STRICTLY NO CASH REFUND.']]"
      ]
     },
     "execution_count": 122,
     "metadata": {},
     "output_type": "execute_result"
    }
   ],
   "source": [
    "file_path = './test_files/OCR1.txt'\n",
    "directory_path = './test_files'\n",
    "\n",
    "valid_path_file(file_path)\n",
    "get_all_files_by_extension(directory_path,'.txt')\n",
    "all, text = read_file(file_path)\n",
    "all"
   ]
  }
 ],
 "metadata": {
  "kernelspec": {
   "display_name": "Python 3.8.6rc1 ('venv': venv)",
   "language": "python",
   "name": "python3"
  },
  "language_info": {
   "codemirror_mode": {
    "name": "ipython",
    "version": 3
   },
   "file_extension": ".py",
   "mimetype": "text/x-python",
   "name": "python",
   "nbconvert_exporter": "python",
   "pygments_lexer": "ipython3",
   "version": "3.8.6rc1"
  },
  "orig_nbformat": 4,
  "vscode": {
   "interpreter": {
    "hash": "eb4400cbe859b2ce1475a2662dfcc12dad432f45aa9fda320e847e59a453751b"
   }
  }
 },
 "nbformat": 4,
 "nbformat_minor": 2
}
