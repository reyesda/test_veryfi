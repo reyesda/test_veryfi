{
 "cells": [
  {
   "cell_type": "code",
   "execution_count": 2,
   "metadata": {},
   "outputs": [],
   "source": [
    "import os"
   ]
  },
  {
   "cell_type": "markdown",
   "metadata": {},
   "source": [
    "## Read file fuctions"
   ]
  },
  {
   "cell_type": "code",
   "execution_count": 121,
   "metadata": {},
   "outputs": [],
   "source": [
    "def is_there_a_file(path: str) -> bool:\n",
    "    return os.path.exists(path)\n",
    "\n",
    "def check_file_extension(path: str, extension: str) -> bool:\n",
    "    return os.path.splitext(path)[1] == extension\n",
    "\n",
    "def valid_path_file(path: str)-> bool:\n",
    "    return is_there_a_file(path) and check_file_extension(path, '.txt')\n",
    "\n",
    "def get_all_files_by_extension(path: str, extension: str)-> list:\n",
    "    return [file_name for file_name in os.listdir(path) if extension in file_name]\n",
    "\n",
    "def read_file(path: str):\n",
    "    all_data = []\n",
    "    text = []\n",
    "    with open(path, 'r') as file:\n",
    "        for line in file:\n",
    "            line = line.rstrip('\\n').split(',')\n",
    "\n",
    "            xn_and_yn = turn_all_elements_into_int(line[:8].copy())\n",
    "            text_data = process_text_data(line[8:].copy())\n",
    "\n",
    "            \n",
    "            xn_and_yn.append(text_data)\n",
    "            \n",
    "            text.append(text_data)\n",
    "            all_data.append(xn_and_yn)\n",
    "        \n",
    "        return all_data, text\n",
    "\n",
    "def turn_all_elements_into_int(list_str: list)-> list:\n",
    "    return list(map(lambda number: int(number), list_str))\n",
    "\n",
    "def process_text_data(list_text: list)-> str:\n",
    "    if len(list_text) > 1:\n",
    "        list_text = ','.join(list_text)\n",
    "    else:\n",
    "        list_text = list_text[0]\n",
    "        \n",
    "    return list_text\n"
   ]
  },
  {
   "cell_type": "code",
   "execution_count": null,
   "metadata": {},
   "outputs": [],
   "source": [
    "file_path = './test_files/OCR1.txt'\n",
    "directory_path = './test_files'\n",
    "\n",
    "valid_path_file(file_path)\n",
    "get_all_files_by_extension(directory_path,'.txt')\n",
    "all, text = read_file(file_path)\n",
    "text"
   ]
  },
  {
   "cell_type": "markdown",
   "metadata": {},
   "source": [
    "# Process fuctions"
   ]
  },
  {
   "cell_type": "code",
   "execution_count": 188,
   "metadata": {},
   "outputs": [],
   "source": [
    "def find_indexes_equal_character(block: list, element: str)-> list:\n",
    "    return [index for index, text_element in enumerate(block) if  element == text_element]\n",
    "\n",
    "def find_indexes_that_contain_character(block: list, element: str)-> list:\n",
    "    return [index for index, text_element in enumerate(block) if  element in text_element]\n",
    "\n",
    "def index_before_2_and_after_2(index:int)->list:\n",
    "    return [index - 2, index - 1, index + 1, index + 2]\n",
    "\n",
    "def get_line_item(text: list, index_x: int)-> list:\n",
    "    return [text[index] for index in index_before_2_and_after_2(index_x)]\n",
    "\n",
    "def split_block_by_index(block: list, start: int = None, end: int = None)-> list:\n",
    "    return block[start:end]\n",
    "\n",
    "def get_main_blocks(text: list, index_invoice: int, index_item: int)-> int:\n",
    "    indexes = [None, index_invoice, index_item, None]\n",
    "    blocks = []\n",
    "\n",
    "    for index in range(len(indexes) - 1):\n",
    "        blocks.append(split_block_by_index(text,start=indexes[index], end=indexes[index + 1]))\n",
    "\n",
    "    return blocks\n",
    "\n",
    "def get_all_line_items(line_items_block: list)-> list:\n",
    "    indexes_x = find_indexes_equal_character(line_items_block, 'X')\n",
    "    result = []\n",
    "\n",
    "    for index in indexes_x:\n",
    "        result.append(get_line_item(line_items_block, index))\n",
    "\n",
    "    return result\n"
   ]
  },
  {
   "cell_type": "code",
   "execution_count": 184,
   "metadata": {},
   "outputs": [],
   "source": [
    "index_invoice = find_indexes_equal_character(text,'-INVOICE-')[0]\n",
    "index_item = find_indexes_that_contain_character(text, 'ITEM')[0]\n",
    "\n",
    "blocks = get_main_blocks(text, index_invoice, index_item)"
   ]
  },
  {
   "cell_type": "code",
   "execution_count": 190,
   "metadata": {},
   "outputs": [],
   "source": [
    "index_x = find_indexes_equal_character(blocks[1], 'X')\n",
    "\n",
    "get_line_item(blocks[1], index_x[0])\n",
    "\n",
    "get_all_line_items(blocks[1])"
   ]
  }
 ],
 "metadata": {
  "kernelspec": {
   "display_name": "Python 3.8.6rc1 ('venv': venv)",
   "language": "python",
   "name": "python3"
  },
  "language_info": {
   "codemirror_mode": {
    "name": "ipython",
    "version": 3
   },
   "file_extension": ".py",
   "mimetype": "text/x-python",
   "name": "python",
   "nbconvert_exporter": "python",
   "pygments_lexer": "ipython3",
   "version": "3.8.6rc1"
  },
  "orig_nbformat": 4,
  "vscode": {
   "interpreter": {
    "hash": "eb4400cbe859b2ce1475a2662dfcc12dad432f45aa9fda320e847e59a453751b"
   }
  }
 },
 "nbformat": 4,
 "nbformat_minor": 2
}
